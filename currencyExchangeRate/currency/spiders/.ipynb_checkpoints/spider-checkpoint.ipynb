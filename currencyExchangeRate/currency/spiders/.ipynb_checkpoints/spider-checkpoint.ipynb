{
 "cells": [
  {
   "cell_type": "code",
   "execution_count": 1,
   "metadata": {},
   "outputs": [],
   "source": [
    "import scrapy\n",
    "\n",
    "class Currency(scrapy.Spider):\n",
    "    name = \"currency_spidey\"\n",
    "    \n",
    "    def start_requests(self):\n",
    "        urls = \"https://www.nrb.org.np/fxmexchangerate.php\"\n",
    "        for url in urls:\n",
    "            yield scrapy.Request(url=url,callback=self.parse)\n",
    "            \n",
    "   "
   ]
  },
  {
   "cell_type": "code",
   "execution_count": null,
   "metadata": {},
   "outputs": [],
   "source": [
    " def parse(self,response):\n",
    "        country_name = response.xpath(\"/html/body/table[1]/tbody/tr[3]/td[3]/table[2]/tbody/tr[2]/td/table//tr[3]/td[1]\").extract()\n",
    "        print(country_name)"
   ]
  }
 ],
 "metadata": {
  "kernelspec": {
   "display_name": "Python 3",
   "language": "python",
   "name": "python3"
  },
  "language_info": {
   "codemirror_mode": {
    "name": "ipython",
    "version": 3
   },
   "file_extension": ".py",
   "mimetype": "text/x-python",
   "name": "python",
   "nbconvert_exporter": "python",
   "pygments_lexer": "ipython3",
   "version": "3.6.9"
  }
 },
 "nbformat": 4,
 "nbformat_minor": 2
}
